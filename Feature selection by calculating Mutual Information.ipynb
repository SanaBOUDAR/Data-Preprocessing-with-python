{
 "cells": [
  {
   "cell_type": "code",
   "execution_count": null,
   "id": "ad4a750f",
   "metadata": {},
   "outputs": [],
   "source": [
    "from sklearn.feature_selection import mutual_info_classif\n",
    "import pandas as pd\n",
    "from sklearn.model_selection import train_test_split\n",
    "\n",
    "# Uploading the dataset\n",
    "df = pd.read_excel('DATA.xlsx', engine='openpyxl')\n",
    "\n",
    "# Selecting the target variable\n",
    "X = df.drop(columns=['I_CLASS'])\n",
    "y = df['I_CLASS']\n",
    "\n",
    "# The data is split into training and test sets. This is done to ensure robust evaluation, although it's not strictly necessary for calculating mutual information.\n",
    "X_train, X_test, y_train, y_test = train_test_split(X, y, test_size=0.3, random_state=42)\n",
    "\n",
    "# Calculate Mutual Information\n",
    "mi_scores = mutual_info_classif(X_train, y_train)\n",
    "\n",
    "# Create a dataframe to print the scores\n",
    "mi_df = pd.DataFrame({'Feature': X_train.columns, 'MI Score': mi_scores}).sort_values(by='MI Score', ascending=False)\n",
    "\n",
    "# Print the scores\n",
    "print(mi_df)\n"
   ]
  },
  {
   "cell_type": "code",
   "execution_count": null,
   "id": "fb166e37",
   "metadata": {},
   "outputs": [],
   "source": []
  }
 ],
 "metadata": {
  "kernelspec": {
   "display_name": "Python 3 (ipykernel)",
   "language": "python",
   "name": "python3"
  },
  "language_info": {
   "codemirror_mode": {
    "name": "ipython",
    "version": 3
   },
   "file_extension": ".py",
   "mimetype": "text/x-python",
   "name": "python",
   "nbconvert_exporter": "python",
   "pygments_lexer": "ipython3",
   "version": "3.11.5"
  }
 },
 "nbformat": 4,
 "nbformat_minor": 5
}

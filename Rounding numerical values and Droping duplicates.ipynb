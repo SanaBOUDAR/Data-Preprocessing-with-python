{
 "cells": [
  {
   "cell_type": "code",
   "execution_count": 3,
   "id": "5f6a3b97",
   "metadata": {},
   "outputs": [],
   "source": [
    "import pandas as pd\n",
    "\n",
    "# Upload Data\n",
    "df = pd.read_excel('C:/Users/Sana/Desktop/PFE/++/Data/uh/da2Imputed10Iter2Filtré.xlsx', engine='openpyxl')\n",
    "\n",
    "# Rounding numerical values to the closest integer\n",
    "df_rounded = df.select_dtypes(include=['float64', 'float32', 'int64']).round(0).astype(int)\n",
    "df[df_rounded.columns] = df_rounded\n",
    "\n",
    "#Save the dataset after rounding\n",
    "# df.to_excel('RoundedData.xlsx', index=False)\n"
   ]
  },
  {
   "cell_type": "code",
   "execution_count": 4,
   "id": "d4915f69",
   "metadata": {},
   "outputs": [
    {
     "name": "stdout",
     "output_type": "stream",
     "text": [
      "Nombre de lignes dupliquées supprimées : 1\n"
     ]
    }
   ],
   "source": [
    "df = pd.read_excel('RoundedData.xlsx')\n",
    "\n",
    "# Initial dataset size\n",
    "taille_initiale = len(df)\n",
    "\n",
    "#Droping duplicates\n",
    "df_sans_doublons = df.drop_duplicates()\n",
    "\n",
    "# Calculate the number of duplicates dropped\n",
    "doublons_supprimes = taille_initiale - len(df_sans_doublons)\n",
    "\n",
    "# Print the number of duplicates dropped \n",
    "print(f\"Number of duplicates dropped : {doublons_supprimes}\")\n",
    "\n",
    "# Save dataframe without duplicates\n",
    "df_sans_doublons.to_excel('DataWithoutDuplicates.xlsx', index=False)\n"
   ]
  },
  {
   "cell_type": "code",
   "execution_count": 5,
   "id": "5b890d23",
   "metadata": {},
   "outputs": [
    {
     "name": "stdout",
     "output_type": "stream",
     "text": [
      "Nombre de lignes après élimination des doublons : 151387\n"
     ]
    }
   ],
   "source": [
    "import pandas as pd\n",
    "\n",
    "# Here we're gonna drop duplicates without considering the target class\n",
    "# Selecting columns and eliminating the target class\n",
    "colonnes_a_considerer = [col for col in df.columns if col != 'I_CLASS']\n",
    "\n",
    "# Dropping duplicates without taking the target class into consideration\n",
    "df_sans_doublons = df.drop_duplicates(subset=colonnes_a_considerer)\n",
    "\n",
    "print(\"Size of dataset after droping duplicates :\", len(df_sans_doublons))\n"
   ]
  },
  {
   "cell_type": "code",
   "execution_count": null,
   "id": "57f285bf",
   "metadata": {},
   "outputs": [],
   "source": []
  }
 ],
 "metadata": {
  "kernelspec": {
   "display_name": "Python 3 (ipykernel)",
   "language": "python",
   "name": "python3"
  },
  "language_info": {
   "codemirror_mode": {
    "name": "ipython",
    "version": 3
   },
   "file_extension": ".py",
   "mimetype": "text/x-python",
   "name": "python",
   "nbconvert_exporter": "python",
   "pygments_lexer": "ipython3",
   "version": "3.11.5"
  }
 },
 "nbformat": 4,
 "nbformat_minor": 5
}

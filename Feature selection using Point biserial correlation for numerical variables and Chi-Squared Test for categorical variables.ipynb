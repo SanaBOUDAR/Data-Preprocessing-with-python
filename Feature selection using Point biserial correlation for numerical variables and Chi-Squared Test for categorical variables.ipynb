{
 "cells": [
  {
   "cell_type": "code",
   "execution_count": 1,
   "id": "91a1f9b6",
   "metadata": {},
   "outputs": [
    {
     "name": "stdout",
     "output_type": "stream",
     "text": [
      "Corrélation de point bisériel pour les variables numériques:\n",
      "MT_ACCORD_BoxCox : -0.20523939387611967\n",
      "DUR_P_BoxCox : -0.12005591617903383\n",
      "Age_BoxCox : 0.07736956085396099\n",
      "Revenu_estime_BoxCox : -0.05123631764173755\n",
      "\n",
      "Scores du Chi-deux pour les variables catégorielles:\n",
      "CODE : score=10691.856095229641, p-value=0.0\n",
      "m2_Wilaya : score=5803.525833040518, p-value=0.0\n",
      "CATEGORIE : score=7830.0001249932475, p-value=0.0\n",
      "t18_Genre : score=381.51774570707505, p-value=5.814680632538035e-85\n",
      "t23_EtatCivil : score=158.20017228952642, p-value=2.7983531450844096e-36\n",
      "t24_Profession : score=227355.1301840315, p-value=0.0\n"
     ]
    }
   ],
   "source": [
    "import pandas as pd\n",
    "from scipy.stats import pointbiserialr\n",
    "from sklearn.feature_selection import chi2\n",
    "\n",
    "# Upload data\n",
    "df = pd.read_excel('DATA.xlsx', engine='openpyxl')\n",
    "\n",
    "# Separate numerical and categorical variables\n",
    "numeriques = df.iloc[:, 0:4]  \n",
    "categorielles = df.iloc[:, 4:10]  \n",
    "\n",
    "# Selecting the targer variable\n",
    "y = df['I_CLASS']\n",
    "\n",
    "# Point Biserial Correlation for numerical variables\n",
    "print(\"Point Biserial Correlation for numerical variables:\")\n",
    "for col in numeriques.columns:\n",
    "    corr, _ = pointbiserialr(numeriques[col], y)\n",
    "    print(f\"{col} : {corr}\")\n",
    "\n",
    "# Chi-Squared Test for categorical variables\n",
    "chi_scores, chi_pvalues = chi2(categorielles, y)\n",
    "\n",
    "print(\"\\nChi-Squared score for categorical variables\")\n",
    "for i, col in enumerate(categorielles.columns):\n",
    "    print(f\"{col} : score={chi_scores[i]}, p-value={chi_pvalues[i]}\")\n"
   ]
  },
  {
   "cell_type": "code",
   "execution_count": null,
   "id": "8c3698b1",
   "metadata": {},
   "outputs": [],
   "source": []
  }
 ],
 "metadata": {
  "kernelspec": {
   "display_name": "Python 3 (ipykernel)",
   "language": "python",
   "name": "python3"
  },
  "language_info": {
   "codemirror_mode": {
    "name": "ipython",
    "version": 3
   },
   "file_extension": ".py",
   "mimetype": "text/x-python",
   "name": "python",
   "nbconvert_exporter": "python",
   "pygments_lexer": "ipython3",
   "version": "3.11.5"
  }
 },
 "nbformat": 4,
 "nbformat_minor": 5
}

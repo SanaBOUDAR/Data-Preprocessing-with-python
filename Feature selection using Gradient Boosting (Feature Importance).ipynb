{
 "cells": [
  {
   "cell_type": "code",
   "execution_count": 2,
   "id": "cf1455dc",
   "metadata": {},
   "outputs": [
    {
     "name": "stdout",
     "output_type": "stream",
     "text": [
      "Accuracy: 0.855194840193313\n",
      "Precision: 0.8571854171334048\n",
      "Recall: 0.8552666253452974\n",
      "F1 Score: 0.8550100701482023\n",
      "                Feature  Importance\n",
      "1          DUR_P_BoxCox    0.421218\n",
      "9        t24_Profession    0.136414\n",
      "6             CATEGORIE    0.098107\n",
      "0      MT_ACCORD_BoxCox    0.097812\n",
      "2            Age_BoxCox    0.091091\n",
      "3  Revenu_estime_BoxCox    0.074656\n",
      "5             m2_Wilaya    0.033909\n",
      "4                  CODE    0.031865\n",
      "7             t18_Genre    0.012123\n",
      "8         t23_EtatCivil    0.002805\n"
     ]
    }
   ],
   "source": [
    "from sklearn.ensemble import GradientBoostingClassifier\n",
    "from sklearn.model_selection import train_test_split, cross_val_score\n",
    "from sklearn.metrics import accuracy_score, precision_score, recall_score, f1_score\n",
    "import pandas as pd\n",
    "\n",
    "# Charger le dataset\n",
    "df = pd.read_excel('DATA.xlsx', engine='openpyxl')\n",
    "\n",
    "\n",
    "# Separating the target variables (in this case 'I_CLASS')\n",
    "X = df.drop('I_CLASS', axis=1)\n",
    "y = df['I_CLASS']\n",
    "\n",
    "# Spliting data to train and validation set (to measure the performance of the gradient boosting model)\n",
    "X_train, X_test, y_train, y_test = train_test_split(X, y, test_size=0.3, random_state=42)\n",
    "\n",
    "# Creating and training a gradient boosting model\n",
    "gb = GradientBoostingClassifier(n_estimators=100, learning_rate=0.1, max_depth=3, random_state=42)\n",
    "gb.fit(X_train, y_train)\n",
    "\n",
    "# Evaluating the model's performance\n",
    "y_pred = gb.predict(X_test)\n",
    "print(\"Accuracy:\", accuracy_score(y_test, y_pred))\n",
    "print(\"Precision:\", precision_score(y_test, y_pred, average='macro'))\n",
    "print(\"Recall:\", recall_score(y_test, y_pred, average='macro'))\n",
    "print(\"F1 Score:\", f1_score(y_test, y_pred, average='macro'))\n",
    "\n",
    "# Store and print variables importance \n",
    "importances = gb.feature_importances_\n",
    "\n",
    "features_df = pd.DataFrame({'Feature': X.columns, 'Importance': importances}).sort_values(by='Importance', ascending=False)\n",
    "\n",
    "print(features_df)\n"
   ]
  },
  {
   "cell_type": "code",
   "execution_count": null,
   "id": "e9262852",
   "metadata": {},
   "outputs": [],
   "source": []
  }
 ],
 "metadata": {
  "kernelspec": {
   "display_name": "Python 3 (ipykernel)",
   "language": "python",
   "name": "python3"
  },
  "language_info": {
   "codemirror_mode": {
    "name": "ipython",
    "version": 3
   },
   "file_extension": ".py",
   "mimetype": "text/x-python",
   "name": "python",
   "nbconvert_exporter": "python",
   "pygments_lexer": "ipython3",
   "version": "3.11.5"
  }
 },
 "nbformat": 4,
 "nbformat_minor": 5
}

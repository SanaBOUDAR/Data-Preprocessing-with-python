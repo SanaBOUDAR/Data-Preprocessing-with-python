{
 "cells": [
  {
   "cell_type": "code",
   "execution_count": 1,
   "id": "17cadff0",
   "metadata": {},
   "outputs": [],
   "source": [
    "import pandas as pd\n",
    "from sklearn.preprocessing import StandardScaler, MinMaxScaler\n",
    "\n",
    "# Uploading data\n",
    "data = pd.read_excel('DATA.xlsx', engine='openpyxl')\n",
    "\n",
    "# Separating numerical and categorical columns\n",
    "colonnes_numeriques = data.iloc[:, 0:4]  \n",
    "colonnes_categorielles = data.iloc[:, 4:11]  \n",
    "\n",
    "# Standardisation of numerical columns\n",
    "scaler_standard = StandardScaler()\n",
    "colonnes_numeriques_standardisees = scaler_standard.fit_transform(colonnes_numeriques)\n",
    "colonnes_numeriques_standardisees = pd.DataFrame(colonnes_numeriques_standardisees, columns=colonnes_numeriques.columns)\n",
    "\n",
    "# Normalisation of previously standarised columns\n",
    "scaler_minmax = MinMaxScaler()\n",
    "colonnes_numeriques_normalisees = scaler_minmax.fit_transform(colonnes_numeriques_standardisees)\n",
    "colonnes_numeriques_normalisees = pd.DataFrame(colonnes_numeriques_normalisees, columns=colonnes_numeriques.columns)\n",
    "\n",
    "# Concatenation of numerical and categorical data\n",
    "data_traitee = pd.concat([colonnes_numeriques_normalisees, colonnes_categorielles], axis=1)\n",
    "\n",
    "\n",
    "# Save final dataset\n",
    "data_traitee.to_excel('DataTransformed.xlsx', index=False, engine='openpyxl')\n"
   ]
  },
  {
   "cell_type": "code",
   "execution_count": null,
   "id": "5b6b57f5",
   "metadata": {},
   "outputs": [],
   "source": []
  }
 ],
 "metadata": {
  "kernelspec": {
   "display_name": "Python 3 (ipykernel)",
   "language": "python",
   "name": "python3"
  },
  "language_info": {
   "codemirror_mode": {
    "name": "ipython",
    "version": 3
   },
   "file_extension": ".py",
   "mimetype": "text/x-python",
   "name": "python",
   "nbconvert_exporter": "python",
   "pygments_lexer": "ipython3",
   "version": "3.11.5"
  }
 },
 "nbformat": 4,
 "nbformat_minor": 5
}
